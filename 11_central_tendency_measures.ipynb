{
  "cells": [
    {
      "cell_type": "code",
      "execution_count": null,
      "metadata": {
        "colab": {
          "base_uri": "https://localhost:8080/",
          "height": 238
        },
        "id": "O89Tfs6BoKN_",
        "outputId": "b0e75e74-f96b-4396-edd7-cd9e9d9c37de"
      },
      "outputs": [],
      "source": [
        "import pandas as pd\n",
        "df = pd.DataFrame([[32, 24, 30, 40], [17, 24, 21, 28], [50, 25, 28, 32],\n",
        "                   [25, 34, 21, 48], [17, 31, 18, 28], [35, 24, 19, 42]],\n",
        "                  columns=['Physics', 'Chemistry', 'Biology', 'Maths'],\n",
        "                  index=['Student-1', 'Student-2', 'Student-3', 'Student-4',\n",
        "                         'Student-5', 'Student-6'])\n",
        "df"
      ]
    },
    {
      "cell_type": "code",
      "execution_count": null,
      "metadata": {
        "colab": {
          "base_uri": "https://localhost:8080/"
        },
        "id": "gpXxCAXuoLUJ",
        "outputId": "ca1543ad-11fb-4f0e-ab02-98e4e2adb348"
      },
      "outputs": [],
      "source": [
        "df.mean()"
      ]
    },
    {
      "cell_type": "code",
      "execution_count": null,
      "metadata": {
        "colab": {
          "base_uri": "https://localhost:8080/"
        },
        "id": "57sw5TJZoOg_",
        "outputId": "f924197f-bb91-45c1-ad7b-4c60dab3296b"
      },
      "outputs": [],
      "source": [
        "df.median()"
      ]
    },
    {
      "cell_type": "code",
      "execution_count": null,
      "metadata": {
        "colab": {
          "base_uri": "https://localhost:8080/",
          "height": 81
        },
        "id": "48JXd06qoO0A",
        "outputId": "a42244ca-29f4-410c-9f78-c555e621fa03"
      },
      "outputs": [],
      "source": [
        "df.mode()"
      ]
    },
    {
      "cell_type": "code",
      "execution_count": null,
      "metadata": {
        "colab": {
          "base_uri": "https://localhost:8080/",
          "height": 300
        },
        "id": "NI7aezsvoQD8",
        "outputId": "412a6926-8fbf-4246-8b62-ba913f30efc9"
      },
      "outputs": [],
      "source": [
        "df.describe()"
      ]
    },
    {
      "cell_type": "code",
      "execution_count": null,
      "metadata": {
        "id": "xgROKvKZoRGW"
      },
      "outputs": [],
      "source": []
    }
  ],
  "metadata": {
    "colab": {
      "provenance": []
    },
    "kernelspec": {
      "display_name": "Python 3",
      "name": "python3"
    },
    "language_info": {
      "name": "python",
      "version": "3.11.0"
    }
  },
  "nbformat": 4,
  "nbformat_minor": 0
}
