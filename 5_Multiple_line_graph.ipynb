{
  "cells": [
    {
      "cell_type": "code",
      "execution_count": null,
      "metadata": {
        "vscode": {
          "languageId": "plaintext"
        }
      },
      "outputs": [],
      "source": [
        "import plotly.express as px\n",
        "df = px.data.gapminder().query(\"continent == 'Asia'\")\n",
        "fig = px.line(df, x='year', y='lifeExp', color='country', symbol=\"country\")\n",
        "fig.show()\n"
      ]
    },
    {
      "attachments": {},
      "cell_type": "markdown",
      "metadata": {},
      "source": [
        "eg 2-"
      ]
    },
    {
      "cell_type": "code",
      "execution_count": null,
      "metadata": {
        "vscode": {
          "languageId": "plaintext"
        }
      },
      "outputs": [],
      "source": [
        "import matplotlib.pyplot as plt\n",
        "\n",
        "# Dummy data\n",
        "time_periods = [1, 2, 3, 4, 5]\n",
        "tcs = [10, 20, 15, 25, 30]\n",
        "wipro = [5, 15, 10, 20, 25]\n",
        "adani = [20, 25, 30, 15, 10]\n",
        "\n",
        "plt.plot(time_periods, tcs, label='Variable 1')\n",
        "plt.plot(time_periods, wipro, label='Variable 2')\n",
        "plt.plot(time_periods, adani, label='Variable 3')\n",
        "\n",
        "plt.xlabel('Time Periods')\n",
        "plt.ylabel('Values')\n",
        "plt.title('Multiple Line Graphs with stock Data')\n",
        "plt.legend()\n",
        "\n",
        "plt.show()\n"
      ]
    }
  ],
  "metadata": {
    "colab": {
      "provenance": []
    },
    "kernelspec": {
      "display_name": "Python 3",
      "name": "python3"
    },
    "language_info": {
      "name": "python"
    }
  },
  "nbformat": 4,
  "nbformat_minor": 0
}
