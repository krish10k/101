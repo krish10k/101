{
  "nbformat": 4,
  "nbformat_minor": 0,
  "metadata": {
    "colab": {
      "provenance": []
    },
    "kernelspec": {
      "name": "python3",
      "display_name": "Python 3"
    },
    "language_info": {
      "name": "python"
    }
  },
  "cells": [
    {
      "cell_type": "code",
      "execution_count": 6,
      "metadata": {
        "colab": {
          "base_uri": "https://localhost:8080/"
        },
        "id": "GwU49JHuNpZS",
        "outputId": "32f024d7-6f39-4204-b5d4-bb537cbc853c"
      },
      "outputs": [
        {
          "output_type": "stream",
          "name": "stdout",
          "text": [
            "column1      int64\n",
            "column2     object\n",
            "column3    float64\n",
            "column4     object\n",
            "dtype: object\n",
            "column1    0\n",
            "column2    1\n",
            "column3    1\n",
            "column4    0\n",
            "dtype: int64\n"
          ]
        }
      ],
      "source": [
        "import pandas as pd\n",
        "import numpy as np\n",
        "\n",
        "#dataframe with some dummy data\n",
        "df = pd.DataFrame({\n",
        "    'column1': [1, 2, 3, 4, 5],\n",
        "    'column2': ['a', 'b', 'c', np.nan, 'e'],\n",
        "    'column3': [1.1, np.nan, 3.3, 4.4, 5.5],\n",
        "    'column4': ['x', 'y', 'z', 'w', 't'],\n",
        "})\n",
        "\n",
        "print(df.dtypes)\n",
        "print(df.isnull().sum())\n"
      ]
    }
  ]
}